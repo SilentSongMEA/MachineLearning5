{
 "cells": [
  {
   "cell_type": "code",
   "execution_count": 16,
   "id": "f198eb18",
   "metadata": {},
   "outputs": [
    {
     "data": {
      "text/html": [
       "<div>\n",
       "<style scoped>\n",
       "    .dataframe tbody tr th:only-of-type {\n",
       "        vertical-align: middle;\n",
       "    }\n",
       "\n",
       "    .dataframe tbody tr th {\n",
       "        vertical-align: top;\n",
       "    }\n",
       "\n",
       "    .dataframe thead th {\n",
       "        text-align: right;\n",
       "    }\n",
       "</style>\n",
       "<table border=\"1\" class=\"dataframe\">\n",
       "  <thead>\n",
       "    <tr style=\"text-align: right;\">\n",
       "      <th></th>\n",
       "      <th>CustomerID</th>\n",
       "      <th>Gender</th>\n",
       "      <th>Age</th>\n",
       "      <th>Annual Income (k$)</th>\n",
       "      <th>Spending Score (1-100)</th>\n",
       "    </tr>\n",
       "  </thead>\n",
       "  <tbody>\n",
       "    <tr>\n",
       "      <th>0</th>\n",
       "      <td>1</td>\n",
       "      <td>Male</td>\n",
       "      <td>19</td>\n",
       "      <td>15</td>\n",
       "      <td>39</td>\n",
       "    </tr>\n",
       "    <tr>\n",
       "      <th>1</th>\n",
       "      <td>2</td>\n",
       "      <td>Male</td>\n",
       "      <td>21</td>\n",
       "      <td>15</td>\n",
       "      <td>81</td>\n",
       "    </tr>\n",
       "    <tr>\n",
       "      <th>2</th>\n",
       "      <td>3</td>\n",
       "      <td>Female</td>\n",
       "      <td>20</td>\n",
       "      <td>16</td>\n",
       "      <td>6</td>\n",
       "    </tr>\n",
       "    <tr>\n",
       "      <th>3</th>\n",
       "      <td>4</td>\n",
       "      <td>Female</td>\n",
       "      <td>23</td>\n",
       "      <td>16</td>\n",
       "      <td>77</td>\n",
       "    </tr>\n",
       "    <tr>\n",
       "      <th>4</th>\n",
       "      <td>5</td>\n",
       "      <td>Female</td>\n",
       "      <td>31</td>\n",
       "      <td>17</td>\n",
       "      <td>40</td>\n",
       "    </tr>\n",
       "    <tr>\n",
       "      <th>...</th>\n",
       "      <td>...</td>\n",
       "      <td>...</td>\n",
       "      <td>...</td>\n",
       "      <td>...</td>\n",
       "      <td>...</td>\n",
       "    </tr>\n",
       "    <tr>\n",
       "      <th>195</th>\n",
       "      <td>196</td>\n",
       "      <td>Female</td>\n",
       "      <td>35</td>\n",
       "      <td>120</td>\n",
       "      <td>79</td>\n",
       "    </tr>\n",
       "    <tr>\n",
       "      <th>196</th>\n",
       "      <td>197</td>\n",
       "      <td>Female</td>\n",
       "      <td>45</td>\n",
       "      <td>126</td>\n",
       "      <td>28</td>\n",
       "    </tr>\n",
       "    <tr>\n",
       "      <th>197</th>\n",
       "      <td>198</td>\n",
       "      <td>Male</td>\n",
       "      <td>32</td>\n",
       "      <td>126</td>\n",
       "      <td>74</td>\n",
       "    </tr>\n",
       "    <tr>\n",
       "      <th>198</th>\n",
       "      <td>199</td>\n",
       "      <td>Male</td>\n",
       "      <td>32</td>\n",
       "      <td>137</td>\n",
       "      <td>18</td>\n",
       "    </tr>\n",
       "    <tr>\n",
       "      <th>199</th>\n",
       "      <td>200</td>\n",
       "      <td>Male</td>\n",
       "      <td>30</td>\n",
       "      <td>137</td>\n",
       "      <td>83</td>\n",
       "    </tr>\n",
       "  </tbody>\n",
       "</table>\n",
       "<p>200 rows × 5 columns</p>\n",
       "</div>"
      ],
      "text/plain": [
       "     CustomerID  Gender  Age  Annual Income (k$)  Spending Score (1-100)\n",
       "0             1    Male   19                  15                      39\n",
       "1             2    Male   21                  15                      81\n",
       "2             3  Female   20                  16                       6\n",
       "3             4  Female   23                  16                      77\n",
       "4             5  Female   31                  17                      40\n",
       "..          ...     ...  ...                 ...                     ...\n",
       "195         196  Female   35                 120                      79\n",
       "196         197  Female   45                 126                      28\n",
       "197         198    Male   32                 126                      74\n",
       "198         199    Male   32                 137                      18\n",
       "199         200    Male   30                 137                      83\n",
       "\n",
       "[200 rows x 5 columns]"
      ]
     },
     "execution_count": 16,
     "metadata": {},
     "output_type": "execute_result"
    }
   ],
   "source": [
    "import pandas as pd \n",
    "import numpy as np\n",
    "from sklearn.cluster import KMeans\n",
    "import matplotlib.pyplot as plt\n",
    "from sklearn.cluster import MeanShift,KMeans,estimate_bandwidth\n",
    "from sklearn.preprocessing import StandardScaler\n",
    "from sklearn.datasets import make_blobs\n",
    "mydata=pd.read_csv('C:\\\\Users\\\\Student\\Desktop\\customer.csv')\n",
    "mydata"
   ]
  },
  {
   "cell_type": "code",
   "execution_count": 19,
   "id": "e561b729",
   "metadata": {},
   "outputs": [
    {
     "data": {
      "text/html": [
       "<div>\n",
       "<style scoped>\n",
       "    .dataframe tbody tr th:only-of-type {\n",
       "        vertical-align: middle;\n",
       "    }\n",
       "\n",
       "    .dataframe tbody tr th {\n",
       "        vertical-align: top;\n",
       "    }\n",
       "\n",
       "    .dataframe thead th {\n",
       "        text-align: right;\n",
       "    }\n",
       "</style>\n",
       "<table border=\"1\" class=\"dataframe\">\n",
       "  <thead>\n",
       "    <tr style=\"text-align: right;\">\n",
       "      <th></th>\n",
       "      <th>CustomerID</th>\n",
       "      <th>Gender</th>\n",
       "      <th>Age</th>\n",
       "      <th>Annual Income (k$)</th>\n",
       "      <th>Spending Score (1-100)</th>\n",
       "    </tr>\n",
       "  </thead>\n",
       "  <tbody>\n",
       "    <tr>\n",
       "      <th>0</th>\n",
       "      <td>1</td>\n",
       "      <td>2</td>\n",
       "      <td>19</td>\n",
       "      <td>15</td>\n",
       "      <td>39</td>\n",
       "    </tr>\n",
       "    <tr>\n",
       "      <th>1</th>\n",
       "      <td>2</td>\n",
       "      <td>2</td>\n",
       "      <td>21</td>\n",
       "      <td>15</td>\n",
       "      <td>81</td>\n",
       "    </tr>\n",
       "    <tr>\n",
       "      <th>2</th>\n",
       "      <td>3</td>\n",
       "      <td>1</td>\n",
       "      <td>20</td>\n",
       "      <td>16</td>\n",
       "      <td>6</td>\n",
       "    </tr>\n",
       "    <tr>\n",
       "      <th>3</th>\n",
       "      <td>4</td>\n",
       "      <td>1</td>\n",
       "      <td>23</td>\n",
       "      <td>16</td>\n",
       "      <td>77</td>\n",
       "    </tr>\n",
       "    <tr>\n",
       "      <th>4</th>\n",
       "      <td>5</td>\n",
       "      <td>1</td>\n",
       "      <td>31</td>\n",
       "      <td>17</td>\n",
       "      <td>40</td>\n",
       "    </tr>\n",
       "    <tr>\n",
       "      <th>...</th>\n",
       "      <td>...</td>\n",
       "      <td>...</td>\n",
       "      <td>...</td>\n",
       "      <td>...</td>\n",
       "      <td>...</td>\n",
       "    </tr>\n",
       "    <tr>\n",
       "      <th>195</th>\n",
       "      <td>196</td>\n",
       "      <td>1</td>\n",
       "      <td>35</td>\n",
       "      <td>120</td>\n",
       "      <td>79</td>\n",
       "    </tr>\n",
       "    <tr>\n",
       "      <th>196</th>\n",
       "      <td>197</td>\n",
       "      <td>1</td>\n",
       "      <td>45</td>\n",
       "      <td>126</td>\n",
       "      <td>28</td>\n",
       "    </tr>\n",
       "    <tr>\n",
       "      <th>197</th>\n",
       "      <td>198</td>\n",
       "      <td>2</td>\n",
       "      <td>32</td>\n",
       "      <td>126</td>\n",
       "      <td>74</td>\n",
       "    </tr>\n",
       "    <tr>\n",
       "      <th>198</th>\n",
       "      <td>199</td>\n",
       "      <td>2</td>\n",
       "      <td>32</td>\n",
       "      <td>137</td>\n",
       "      <td>18</td>\n",
       "    </tr>\n",
       "    <tr>\n",
       "      <th>199</th>\n",
       "      <td>200</td>\n",
       "      <td>2</td>\n",
       "      <td>30</td>\n",
       "      <td>137</td>\n",
       "      <td>83</td>\n",
       "    </tr>\n",
       "  </tbody>\n",
       "</table>\n",
       "<p>200 rows × 5 columns</p>\n",
       "</div>"
      ],
      "text/plain": [
       "     CustomerID  Gender  Age  Annual Income (k$)  Spending Score (1-100)\n",
       "0             1       2   19                  15                      39\n",
       "1             2       2   21                  15                      81\n",
       "2             3       1   20                  16                       6\n",
       "3             4       1   23                  16                      77\n",
       "4             5       1   31                  17                      40\n",
       "..          ...     ...  ...                 ...                     ...\n",
       "195         196       1   35                 120                      79\n",
       "196         197       1   45                 126                      28\n",
       "197         198       2   32                 126                      74\n",
       "198         199       2   32                 137                      18\n",
       "199         200       2   30                 137                      83\n",
       "\n",
       "[200 rows x 5 columns]"
      ]
     },
     "execution_count": 19,
     "metadata": {},
     "output_type": "execute_result"
    }
   ],
   "source": [
    "gender=set(mydata.Gender)\n",
    "Gender={}\n",
    "for i , j in enumerate(gender,start=1):\n",
    "    x={j:i}\n",
    "    Gender.update(x)\n",
    "mydata=mydata.applymap(lambda s:Gender.get(s) if s in Gender else s)\n",
    "mydata"
   ]
  },
  {
   "cell_type": "code",
   "execution_count": 20,
   "id": "2a416728",
   "metadata": {},
   "outputs": [
    {
     "data": {
      "text/html": [
       "<div>\n",
       "<style scoped>\n",
       "    .dataframe tbody tr th:only-of-type {\n",
       "        vertical-align: middle;\n",
       "    }\n",
       "\n",
       "    .dataframe tbody tr th {\n",
       "        vertical-align: top;\n",
       "    }\n",
       "\n",
       "    .dataframe thead th {\n",
       "        text-align: right;\n",
       "    }\n",
       "</style>\n",
       "<table border=\"1\" class=\"dataframe\">\n",
       "  <thead>\n",
       "    <tr style=\"text-align: right;\">\n",
       "      <th></th>\n",
       "      <th>Gender</th>\n",
       "      <th>Age</th>\n",
       "      <th>Annual Income (k$)</th>\n",
       "      <th>Spending Score (1-100)</th>\n",
       "    </tr>\n",
       "    <tr>\n",
       "      <th>CustomerID</th>\n",
       "      <th></th>\n",
       "      <th></th>\n",
       "      <th></th>\n",
       "      <th></th>\n",
       "    </tr>\n",
       "  </thead>\n",
       "  <tbody>\n",
       "    <tr>\n",
       "      <th>1</th>\n",
       "      <td>2</td>\n",
       "      <td>19</td>\n",
       "      <td>15</td>\n",
       "      <td>39</td>\n",
       "    </tr>\n",
       "    <tr>\n",
       "      <th>2</th>\n",
       "      <td>2</td>\n",
       "      <td>21</td>\n",
       "      <td>15</td>\n",
       "      <td>81</td>\n",
       "    </tr>\n",
       "    <tr>\n",
       "      <th>3</th>\n",
       "      <td>1</td>\n",
       "      <td>20</td>\n",
       "      <td>16</td>\n",
       "      <td>6</td>\n",
       "    </tr>\n",
       "    <tr>\n",
       "      <th>4</th>\n",
       "      <td>1</td>\n",
       "      <td>23</td>\n",
       "      <td>16</td>\n",
       "      <td>77</td>\n",
       "    </tr>\n",
       "    <tr>\n",
       "      <th>5</th>\n",
       "      <td>1</td>\n",
       "      <td>31</td>\n",
       "      <td>17</td>\n",
       "      <td>40</td>\n",
       "    </tr>\n",
       "    <tr>\n",
       "      <th>...</th>\n",
       "      <td>...</td>\n",
       "      <td>...</td>\n",
       "      <td>...</td>\n",
       "      <td>...</td>\n",
       "    </tr>\n",
       "    <tr>\n",
       "      <th>196</th>\n",
       "      <td>1</td>\n",
       "      <td>35</td>\n",
       "      <td>120</td>\n",
       "      <td>79</td>\n",
       "    </tr>\n",
       "    <tr>\n",
       "      <th>197</th>\n",
       "      <td>1</td>\n",
       "      <td>45</td>\n",
       "      <td>126</td>\n",
       "      <td>28</td>\n",
       "    </tr>\n",
       "    <tr>\n",
       "      <th>198</th>\n",
       "      <td>2</td>\n",
       "      <td>32</td>\n",
       "      <td>126</td>\n",
       "      <td>74</td>\n",
       "    </tr>\n",
       "    <tr>\n",
       "      <th>199</th>\n",
       "      <td>2</td>\n",
       "      <td>32</td>\n",
       "      <td>137</td>\n",
       "      <td>18</td>\n",
       "    </tr>\n",
       "    <tr>\n",
       "      <th>200</th>\n",
       "      <td>2</td>\n",
       "      <td>30</td>\n",
       "      <td>137</td>\n",
       "      <td>83</td>\n",
       "    </tr>\n",
       "  </tbody>\n",
       "</table>\n",
       "<p>200 rows × 4 columns</p>\n",
       "</div>"
      ],
      "text/plain": [
       "            Gender  Age  Annual Income (k$)  Spending Score (1-100)\n",
       "CustomerID                                                         \n",
       "1                2   19                  15                      39\n",
       "2                2   21                  15                      81\n",
       "3                1   20                  16                       6\n",
       "4                1   23                  16                      77\n",
       "5                1   31                  17                      40\n",
       "...            ...  ...                 ...                     ...\n",
       "196              1   35                 120                      79\n",
       "197              1   45                 126                      28\n",
       "198              2   32                 126                      74\n",
       "199              2   32                 137                      18\n",
       "200              2   30                 137                      83\n",
       "\n",
       "[200 rows x 4 columns]"
      ]
     },
     "execution_count": 20,
     "metadata": {},
     "output_type": "execute_result"
    }
   ],
   "source": [
    "mydata=mydata.set_index('CustomerID')\n",
    "mydata"
   ]
  },
  {
   "cell_type": "code",
   "execution_count": 21,
   "id": "15bbdeaa",
   "metadata": {},
   "outputs": [
    {
     "data": {
      "text/plain": [
       "Gender                    0\n",
       "Age                       0\n",
       "Annual Income (k$)        0\n",
       "Spending Score (1-100)    0\n",
       "dtype: int64"
      ]
     },
     "execution_count": 21,
     "metadata": {},
     "output_type": "execute_result"
    }
   ],
   "source": [
    "mydata.isnull().sum()"
   ]
  },
  {
   "cell_type": "code",
   "execution_count": 22,
   "id": "2ed4bbda",
   "metadata": {},
   "outputs": [
    {
     "data": {
      "text/plain": [
       "(200, 4)"
      ]
     },
     "execution_count": 22,
     "metadata": {},
     "output_type": "execute_result"
    }
   ],
   "source": [
    "mydata.shape"
   ]
  },
  {
   "cell_type": "code",
   "execution_count": 23,
   "id": "c526b031",
   "metadata": {},
   "outputs": [
    {
     "data": {
      "text/plain": [
       "(200, 4)"
      ]
     },
     "execution_count": 23,
     "metadata": {},
     "output_type": "execute_result"
    }
   ],
   "source": [
    "mydata.drop_duplicates(inplace=True)\n",
    "mydata.shape"
   ]
  },
  {
   "cell_type": "code",
   "execution_count": 24,
   "id": "abe582f2",
   "metadata": {},
   "outputs": [
    {
     "data": {
      "text/plain": [
       "array([[  2,  19,  15,  39],\n",
       "       [  2,  21,  15,  81],\n",
       "       [  1,  20,  16,   6],\n",
       "       [  1,  23,  16,  77],\n",
       "       [  1,  31,  17,  40],\n",
       "       [  1,  22,  17,  76],\n",
       "       [  1,  35,  18,   6],\n",
       "       [  1,  23,  18,  94],\n",
       "       [  2,  64,  19,   3],\n",
       "       [  1,  30,  19,  72],\n",
       "       [  2,  67,  19,  14],\n",
       "       [  1,  35,  19,  99],\n",
       "       [  1,  58,  20,  15],\n",
       "       [  1,  24,  20,  77],\n",
       "       [  2,  37,  20,  13],\n",
       "       [  2,  22,  20,  79],\n",
       "       [  1,  35,  21,  35],\n",
       "       [  2,  20,  21,  66],\n",
       "       [  2,  52,  23,  29],\n",
       "       [  1,  35,  23,  98],\n",
       "       [  2,  35,  24,  35],\n",
       "       [  2,  25,  24,  73],\n",
       "       [  1,  46,  25,   5],\n",
       "       [  2,  31,  25,  73],\n",
       "       [  1,  54,  28,  14],\n",
       "       [  2,  29,  28,  82],\n",
       "       [  1,  45,  28,  32],\n",
       "       [  2,  35,  28,  61],\n",
       "       [  1,  40,  29,  31],\n",
       "       [  1,  23,  29,  87],\n",
       "       [  2,  60,  30,   4],\n",
       "       [  1,  21,  30,  73],\n",
       "       [  2,  53,  33,   4],\n",
       "       [  2,  18,  33,  92],\n",
       "       [  1,  49,  33,  14],\n",
       "       [  1,  21,  33,  81],\n",
       "       [  1,  42,  34,  17],\n",
       "       [  1,  30,  34,  73],\n",
       "       [  1,  36,  37,  26],\n",
       "       [  1,  20,  37,  75],\n",
       "       [  1,  65,  38,  35],\n",
       "       [  2,  24,  38,  92],\n",
       "       [  2,  48,  39,  36],\n",
       "       [  1,  31,  39,  61],\n",
       "       [  1,  49,  39,  28],\n",
       "       [  1,  24,  39,  65],\n",
       "       [  1,  50,  40,  55],\n",
       "       [  1,  27,  40,  47],\n",
       "       [  1,  29,  40,  42],\n",
       "       [  1,  31,  40,  42],\n",
       "       [  1,  49,  42,  52],\n",
       "       [  2,  33,  42,  60],\n",
       "       [  1,  31,  43,  54],\n",
       "       [  2,  59,  43,  60],\n",
       "       [  1,  50,  43,  45],\n",
       "       [  2,  47,  43,  41],\n",
       "       [  1,  51,  44,  50],\n",
       "       [  2,  69,  44,  46],\n",
       "       [  1,  27,  46,  51],\n",
       "       [  2,  53,  46,  46],\n",
       "       [  2,  70,  46,  56],\n",
       "       [  2,  19,  46,  55],\n",
       "       [  1,  67,  47,  52],\n",
       "       [  1,  54,  47,  59],\n",
       "       [  2,  63,  48,  51],\n",
       "       [  2,  18,  48,  59],\n",
       "       [  1,  43,  48,  50],\n",
       "       [  1,  68,  48,  48],\n",
       "       [  2,  19,  48,  59],\n",
       "       [  1,  32,  48,  47],\n",
       "       [  2,  70,  49,  55],\n",
       "       [  1,  47,  49,  42],\n",
       "       [  1,  60,  50,  49],\n",
       "       [  1,  60,  50,  56],\n",
       "       [  2,  59,  54,  47],\n",
       "       [  2,  26,  54,  54],\n",
       "       [  1,  45,  54,  53],\n",
       "       [  2,  40,  54,  48],\n",
       "       [  1,  23,  54,  52],\n",
       "       [  1,  49,  54,  42],\n",
       "       [  2,  57,  54,  51],\n",
       "       [  2,  38,  54,  55],\n",
       "       [  2,  67,  54,  41],\n",
       "       [  1,  46,  54,  44],\n",
       "       [  1,  21,  54,  57],\n",
       "       [  2,  48,  54,  46],\n",
       "       [  1,  55,  57,  58],\n",
       "       [  1,  22,  57,  55],\n",
       "       [  1,  34,  58,  60],\n",
       "       [  1,  50,  58,  46],\n",
       "       [  1,  68,  59,  55],\n",
       "       [  2,  18,  59,  41],\n",
       "       [  2,  48,  60,  49],\n",
       "       [  1,  40,  60,  40],\n",
       "       [  1,  32,  60,  42],\n",
       "       [  2,  24,  60,  52],\n",
       "       [  1,  47,  60,  47],\n",
       "       [  1,  27,  60,  50],\n",
       "       [  2,  48,  61,  42],\n",
       "       [  2,  20,  61,  49],\n",
       "       [  1,  23,  62,  41],\n",
       "       [  1,  49,  62,  48],\n",
       "       [  2,  67,  62,  59],\n",
       "       [  2,  26,  62,  55],\n",
       "       [  2,  49,  62,  56],\n",
       "       [  1,  21,  62,  42],\n",
       "       [  1,  66,  63,  50],\n",
       "       [  2,  54,  63,  46],\n",
       "       [  2,  68,  63,  43],\n",
       "       [  2,  66,  63,  48],\n",
       "       [  2,  65,  63,  52],\n",
       "       [  1,  19,  63,  54],\n",
       "       [  1,  38,  64,  42],\n",
       "       [  2,  19,  64,  46],\n",
       "       [  1,  18,  65,  48],\n",
       "       [  1,  19,  65,  50],\n",
       "       [  1,  63,  65,  43],\n",
       "       [  1,  49,  65,  59],\n",
       "       [  1,  51,  67,  43],\n",
       "       [  1,  50,  67,  57],\n",
       "       [  2,  27,  67,  56],\n",
       "       [  1,  38,  67,  40],\n",
       "       [  1,  40,  69,  58],\n",
       "       [  2,  39,  69,  91],\n",
       "       [  1,  23,  70,  29],\n",
       "       [  1,  31,  70,  77],\n",
       "       [  2,  43,  71,  35],\n",
       "       [  2,  40,  71,  95],\n",
       "       [  2,  59,  71,  11],\n",
       "       [  2,  38,  71,  75],\n",
       "       [  2,  47,  71,   9],\n",
       "       [  2,  39,  71,  75],\n",
       "       [  1,  25,  72,  34],\n",
       "       [  1,  31,  72,  71],\n",
       "       [  2,  20,  73,   5],\n",
       "       [  1,  29,  73,  88],\n",
       "       [  1,  44,  73,   7],\n",
       "       [  2,  32,  73,  73],\n",
       "       [  2,  19,  74,  10],\n",
       "       [  1,  35,  74,  72],\n",
       "       [  1,  57,  75,   5],\n",
       "       [  2,  32,  75,  93],\n",
       "       [  1,  28,  76,  40],\n",
       "       [  1,  32,  76,  87],\n",
       "       [  2,  25,  77,  12],\n",
       "       [  2,  28,  77,  97],\n",
       "       [  2,  48,  77,  36],\n",
       "       [  1,  32,  77,  74],\n",
       "       [  1,  34,  78,  22],\n",
       "       [  2,  34,  78,  90],\n",
       "       [  2,  43,  78,  17],\n",
       "       [  2,  39,  78,  88],\n",
       "       [  1,  44,  78,  20],\n",
       "       [  1,  38,  78,  76],\n",
       "       [  1,  47,  78,  16],\n",
       "       [  1,  27,  78,  89],\n",
       "       [  2,  37,  78,   1],\n",
       "       [  1,  30,  78,  78],\n",
       "       [  2,  34,  78,   1],\n",
       "       [  1,  30,  78,  73],\n",
       "       [  1,  56,  79,  35],\n",
       "       [  1,  29,  79,  83],\n",
       "       [  2,  19,  81,   5],\n",
       "       [  1,  31,  81,  93],\n",
       "       [  2,  50,  85,  26],\n",
       "       [  1,  36,  85,  75],\n",
       "       [  2,  42,  86,  20],\n",
       "       [  1,  33,  86,  95],\n",
       "       [  1,  36,  87,  27],\n",
       "       [  2,  32,  87,  63],\n",
       "       [  2,  40,  87,  13],\n",
       "       [  2,  28,  87,  75],\n",
       "       [  2,  36,  87,  10],\n",
       "       [  2,  36,  87,  92],\n",
       "       [  1,  52,  88,  13],\n",
       "       [  1,  30,  88,  86],\n",
       "       [  2,  58,  88,  15],\n",
       "       [  2,  27,  88,  69],\n",
       "       [  2,  59,  93,  14],\n",
       "       [  2,  35,  93,  90],\n",
       "       [  1,  37,  97,  32],\n",
       "       [  1,  32,  97,  86],\n",
       "       [  2,  46,  98,  15],\n",
       "       [  1,  29,  98,  88],\n",
       "       [  1,  41,  99,  39],\n",
       "       [  2,  30,  99,  97],\n",
       "       [  1,  54, 101,  24],\n",
       "       [  2,  28, 101,  68],\n",
       "       [  1,  41, 103,  17],\n",
       "       [  1,  36, 103,  85],\n",
       "       [  1,  34, 103,  23],\n",
       "       [  1,  32, 103,  69],\n",
       "       [  2,  33, 113,   8],\n",
       "       [  1,  38, 113,  91],\n",
       "       [  1,  47, 120,  16],\n",
       "       [  1,  35, 120,  79],\n",
       "       [  1,  45, 126,  28],\n",
       "       [  2,  32, 126,  74],\n",
       "       [  2,  32, 137,  18],\n",
       "       [  2,  30, 137,  83]], dtype=int64)"
      ]
     },
     "execution_count": 24,
     "metadata": {},
     "output_type": "execute_result"
    }
   ],
   "source": [
    "x=np.asarray(mydata)\n",
    "x"
   ]
  },
  {
   "cell_type": "code",
   "execution_count": 25,
   "id": "c9d6a1ee",
   "metadata": {},
   "outputs": [],
   "source": [
    "import matplotlib.pyplot as plt"
   ]
  },
  {
   "cell_type": "code",
   "execution_count": 26,
   "id": "c4589f5a",
   "metadata": {},
   "outputs": [
    {
     "data": {
      "text/plain": [
       "<matplotlib.collections.PathCollection at 0x198872c57c0>"
      ]
     },
     "execution_count": 26,
     "metadata": {},
     "output_type": "execute_result"
    },
    {
     "data": {
      "image/png": "[encoded data removed]",
      "text/plain": [
       "<Figure size 640x480 with 1 Axes>"
      ]
     },
     "metadata": {},
     "output_type": "display_data"
    }
   ],
   "source": [
    "plt.scatter(x[:,1],x[:,3],marker='.')"
   ]
  },
  {
   "cell_type": "code",
   "execution_count": 28,
   "id": "7a5f80ae",
   "metadata": {},
   "outputs": [
    {
     "data": {
      "text/plain": [
       "array([1, 0, 1, 0, 1, 0, 1, 0, 1, 0, 1, 0, 1, 0, 1, 0, 1, 0, 1, 0, 1, 0,\n",
       "       1, 0, 1, 0, 1, 0, 1, 0, 1, 0, 1, 0, 1, 0, 1, 0, 1, 0, 1, 0, 1, 0,\n",
       "       1, 0, 1, 1, 1, 1, 1, 0, 0, 1, 1, 1, 1, 1, 0, 1, 1, 0, 1, 1, 1, 0,\n",
       "       1, 1, 0, 1, 1, 1, 1, 1, 1, 0, 1, 1, 0, 1, 1, 0, 1, 1, 0, 1, 1, 0,\n",
       "       0, 1, 1, 1, 1, 1, 1, 0, 1, 0, 1, 0, 1, 1, 1, 0, 1, 1, 1, 1, 1, 1,\n",
       "       1, 0, 1, 0, 0, 0, 1, 0, 1, 1, 0, 1, 0, 0, 1, 0, 1, 0, 1, 0, 1, 0,\n",
       "       1, 0, 1, 0, 1, 0, 1, 0, 1, 0, 1, 0, 1, 0, 1, 0, 1, 0, 1, 0, 1, 0,\n",
       "       1, 0, 1, 0, 1, 0, 1, 0, 1, 0, 1, 0, 1, 0, 1, 0, 1, 0, 1, 0, 1, 0,\n",
       "       1, 0, 1, 0, 1, 0, 1, 0, 1, 0, 1, 0, 1, 0, 1, 0, 1, 0, 1, 0, 1, 0,\n",
       "       1, 0])"
      ]
     },
     "execution_count": 28,
     "metadata": {},
     "output_type": "execute_result"
    }
   ],
   "source": [
    "kmn=KMeans(n_clusters=2)\n",
    "kmn.fit(x)\n",
    "labels=kmn.predict(x)\n",
    "labels"
   ]
  },
  {
   "cell_type": "raw",
   "id": "9d6b8e5d",
   "metadata": {},
   "source": []
  },
  {
   "cell_type": "code",
   "execution_count": 29,
   "id": "9dc93bc2",
   "metadata": {},
   "outputs": [],
   "source": [
    "center=kmn.cluster_centers_"
   ]
  },
  {
   "cell_type": "code",
   "execution_count": 31,
   "id": "3e68b4ca",
   "metadata": {},
   "outputs": [
    {
     "name": "stderr",
     "output_type": "stream",
     "text": [
      "No artists with labels found to put in legend.  Note that artists whose label start with an underscore are ignored when legend() is called with no argument.\n"
     ]
    },
    {
     "data": {
      "image/png": "[encoded data removed]",
      "text/plain": [
       "<Figure size 640x480 with 1 Axes>"
      ]
     },
     "metadata": {},
     "output_type": "display_data"
    }
   ],
   "source": [
    "plt.scatter(x[:,1],x[:,3],c=labels)\n",
    "plt.scatter(center[:,1],center[:,3],marker='x',s=150)\n",
    "plt.legend()\n",
    "plt.show()"
   ]
  },
  {
   "cell_type": "code",
   "execution_count": 32,
   "id": "213a1927",
   "metadata": {},
   "outputs": [
    {
     "data": {
      "text/plain": [
       "212889.44245524297"
      ]
     },
     "execution_count": 32,
     "metadata": {},
     "output_type": "execute_result"
    }
   ],
   "source": [
    "kmn.inertia_"
   ]
  },
  {
   "cell_type": "code",
   "execution_count": 33,
   "id": "5f5caf56",
   "metadata": {},
   "outputs": [
    {
     "name": "stderr",
     "output_type": "stream",
     "text": [
      "C:\\ProgramData\\Anaconda3\\lib\\site-packages\\sklearn\\cluster\\_kmeans.py:1036: UserWarning: KMeans is known to have a memory leak on Windows with MKL, when there are less chunks than available threads. You can avoid it by setting the environment variable OMP_NUM_THREADS=1.\n",
      "  warnings.warn(\n"
     ]
    },
    {
     "data": {
      "text/plain": [
       "[308862.06,\n",
       " 212889.44245524297,\n",
       " 143391.5923603568,\n",
       " 104414.67534220166,\n",
       " 75399.61541401484,\n",
       " 58348.64136331505,\n",
       " 51130.69008126376,\n",
       " 44357.6215098352,\n",
       " 40891.680830865036]"
      ]
     },
     "execution_count": 33,
     "metadata": {},
     "output_type": "execute_result"
    }
   ],
   "source": [
    "y=[]\n",
    "for k in np.arange(1,10):\n",
    "    kmn=KMeans(n_clusters=k)\n",
    "    kmn.fit(x)\n",
    "    y.append(kmn.inertia_)\n",
    "    \n",
    "y"
   ]
  },
  {
   "cell_type": "code",
   "execution_count": 34,
   "id": "fc43268d",
   "metadata": {},
   "outputs": [
    {
     "data": {
      "image/png": "[encoded data removed]",
      "text/plain": [
       "<Figure size 640x480 with 1 Axes>"
      ]
     },
     "metadata": {},
     "output_type": "display_data"
    }
   ],
   "source": [
    "plt.plot(np.arange(1,10),y,'o-')\n",
    "plt.xlabel('number of clusters')\n",
    "plt.ylabel('inertia')\n",
    "plt.show()"
   ]
  },
  {
   "cell_type": "code",
   "execution_count": null,
   "id": "4fd8e325",
   "metadata": {},
   "outputs": [],
   "source": []
  },
  {
   "cell_type": "code",
   "execution_count": null,
   "id": "a12970c3",
   "metadata": {},
   "outputs": [],
   "source": []
  },
  {
   "cell_type": "code",
   "execution_count": null,
   "id": "d1f23730",
   "metadata": {},
   "outputs": [],
   "source": []
  }
 ],
 "metadata": {
  "kernelspec": {
   "display_name": "Python 3 (ipykernel)",
   "language": "python",
   "name": "python3"
  },
  "language_info": {
   "codemirror_mode": {
    "name": "ipython",
    "version": 3
   },
   "file_extension": ".py",
   "mimetype": "text/x-python",
   "name": "python",
   "nbconvert_exporter": "python",
   "pygments_lexer": "ipython3",
   "version": "3.9.13"
  }
 },
 "nbformat": 4,
 "nbformat_minor": 5
}
